{
 "cells": [
  {
   "cell_type": "code",
   "execution_count": 2,
   "metadata": {},
   "outputs": [
    {
     "name": "stderr",
     "output_type": "stream",
     "text": [
      "You are using a model of type gigaam-ctc to instantiate a model of type . This is not supported for all configurations of models and can yield errors.\n"
     ]
    }
   ],
   "source": [
    "from transformers import AutoModel, AutoProcessor\n",
    "import torch\n",
    "import torchaudio\n",
    "\n",
    "# load audio\n",
    "wav, sr = torchaudio.load(\"dataset/test_wavs/bronya.wav\")\n",
    "# resample if necessary\n",
    "wav = torchaudio.functional.resample(wav, sr, 16000)\n",
    "\n",
    "# load model and processor\n",
    "processor = AutoProcessor.from_pretrained(\"waveletdeboshir/gigaam-ctc\", trust_remote_code=True)\n",
    "model = AutoModel.from_pretrained(\"waveletdeboshir/gigaam-ctc\", trust_remote_code=True)\n",
    "model.eval()\n",
    "\n",
    "input_features = processor(wav[0], sampling_rate=16000, return_tensors=\"pt\", padding=True)\n",
    "\n",
    "# predict\n",
    "with torch.no_grad():\n",
    "    logits = model(**input_features).logits\n",
    "# greedy decoding\n",
    "greedy_ids = logits.argmax(dim=-1)\n",
    "# decode token ids to text\n",
    "transcription = processor.batch_decode(greedy_ids)[0]\n"
   ]
  },
  {
   "cell_type": "code",
   "execution_count": 45,
   "metadata": {},
   "outputs": [
    {
     "data": {
      "text/plain": [
       "{'input_features': tensor([[[-17.0600,  -8.9474,  -9.2287,  ...,  -8.3567,  -8.5132,  -7.9249],\n",
       "         [-11.9721,  -9.2135,  -9.5129,  ...,  -8.6416,  -8.7919,  -8.1884],\n",
       "         [-10.6638, -11.7523, -13.9064,  ..., -13.2384, -12.2041, -10.6144],\n",
       "         ...,\n",
       "         [-16.0292, -17.7381, -17.8500,  ..., -16.6101, -16.8950, -15.9967],\n",
       "         [-16.3504, -18.3377, -18.0335,  ..., -16.9564, -17.1942, -16.4797],\n",
       "         [-16.4160, -17.6819, -17.7075,  ..., -17.2120, -17.6381, -17.3802]]]), 'input_lengths': tensor([1112])}"
      ]
     },
     "execution_count": 45,
     "metadata": {},
     "output_type": "execute_result"
    }
   ],
   "source": [
    "input_features"
   ]
  },
  {
   "cell_type": "code",
   "execution_count": 48,
   "metadata": {},
   "outputs": [
    {
     "data": {
      "text/plain": [
       "torch.Size([1, 768, 278])"
      ]
     },
     "execution_count": 48,
     "metadata": {},
     "output_type": "execute_result"
    }
   ],
   "source": [
    "encoder = model.model.encoder\n",
    "\n",
    "encoder.eval()\n",
    "\n",
    "out = encoder(input_features['input_features'], length=input_features['input_lengths'])\n",
    "\n",
    "out[0].shape"
   ]
  },
  {
   "cell_type": "code",
   "execution_count": 62,
   "metadata": {},
   "outputs": [],
   "source": [
    "# Load model directly\n",
    "from transformers import AutoProcessor, AutoModel, Wav2Vec2FeatureExtractor\n",
    "\n",
    "# processor = AutoProcessor.from_pretrained(\"facebook/hubert-large-ll60k\")\n",
    "model_hubert = AutoModel.from_pretrained(\"facebook/hubert-large-ll60k\")\n",
    "processor = Wav2Vec2FeatureExtractor.from_pretrained(\"facebook/hubert-large-ll60k\", trust_remote_code=True)"
   ]
  },
  {
   "cell_type": "code",
   "execution_count": 63,
   "metadata": {},
   "outputs": [],
   "source": [
    "alt_inputs = processor(\n",
    "    wav[0],\n",
    "    return_tensors='pt',\n",
    "    return_attention_mask=True,\n",
    "    padding=True,\n",
    "    sampling_rate=16000\n",
    ")"
   ]
  },
  {
   "cell_type": "code",
   "execution_count": 64,
   "metadata": {},
   "outputs": [],
   "source": [
    "alt_inputs.input_values.shape\n",
    "feature_lens = alt_inputs.data['attention_mask'].sum(-1) // 320  # frame rate of hubert is 50 Hz"
   ]
  },
  {
   "cell_type": "code",
   "execution_count": 65,
   "metadata": {},
   "outputs": [],
   "source": [
    "output_hubert = model_hubert(alt_inputs.input_values, attention_mask=alt_inputs.attention_mask)"
   ]
  },
  {
   "cell_type": "code",
   "execution_count": 66,
   "metadata": {},
   "outputs": [],
   "source": [
    "last_hidden_states = output_hubert.last_hidden_state\n",
    "last_hidden_states = last_hidden_states[:, :feature_lens.max(), :]\n",
    "feature_lens = feature_lens.clamp(max=last_hidden_states.size(1))\n",
    "last_hidden_states = last_hidden_states.transpose(1, 2)"
   ]
  },
  {
   "cell_type": "code",
   "execution_count": 80,
   "metadata": {},
   "outputs": [
    {
     "data": {
      "text/plain": [
       "tensor([555])"
      ]
     },
     "execution_count": 80,
     "metadata": {},
     "output_type": "execute_result"
    }
   ],
   "source": [
    "feature_lens"
   ]
  },
  {
   "cell_type": "code",
   "execution_count": 79,
   "metadata": {},
   "outputs": [
    {
     "data": {
      "text/plain": [
       "torch.Size([1, 1024, 555])"
      ]
     },
     "execution_count": 79,
     "metadata": {},
     "output_type": "execute_result"
    }
   ],
   "source": [
    "last_hidden_states.shape"
   ]
  },
  {
   "cell_type": "code",
   "execution_count": null,
   "metadata": {},
   "outputs": [],
   "source": []
  }
 ],
 "metadata": {
  "kernelspec": {
   "display_name": "ml_project_2",
   "language": "python",
   "name": "python3"
  },
  "language_info": {
   "codemirror_mode": {
    "name": "ipython",
    "version": 3
   },
   "file_extension": ".py",
   "mimetype": "text/x-python",
   "name": "python",
   "nbconvert_exporter": "python",
   "pygments_lexer": "ipython3",
   "version": "3.12.0"
  }
 },
 "nbformat": 4,
 "nbformat_minor": 2
}
