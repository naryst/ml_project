{
 "cells": [
  {
   "cell_type": "code",
   "execution_count": null,
   "metadata": {},
   "outputs": [
    {
     "name": "stderr",
     "output_type": "stream",
     "text": [
      "You are using a model of type gigaam-ctc to instantiate a model of type . This is not supported for all configurations of models and can yield errors.\n"
     ]
    }
   ],
   "source": [
    "from transformers import AutoModel, AutoProcessor\n",
    "import torch\n",
    "import torchaudio\n",
    "import numpy as np\n",
    "\n",
    "\n",
    "# load audio\n",
    "wav, sr = torchaudio.load(\"dataset/test_wavs/bronya.wav\")\n",
    "# resample if necessary\n",
    "wav = torchaudio.functional.resample(wav, sr, 16000)\n",
    "\n",
    "# load model and processor\n",
    "processor = AutoProcessor.from_pretrained(\"waveletdeboshir/gigaam-ctc\", trust_remote_code=True)\n",
    "model = AutoModel.from_pretrained(\"waveletdeboshir/gigaam-ctc\", trust_remote_code=True)\n",
    "model.eval()\n",
    "\n",
    "input_features = processor(wav[0], sampling_rate=16000, return_tensors=\"pt\", padding=True)\n",
    "encoder = model.model.encoder\n",
    "\n",
    "# predict\n",
    "with torch.no_grad():\n",
    "    logits = encoder(input_features['input_features'], length=input_features['input_lengths'])[0]\n",
    "# greedy decoding\n",
    "greedy_ids = logits.argmax(dim=-1)\n",
    "# decode token ids to text\n",
    "transcription = processor.batch_decode(greedy_ids)[0]\n"
   ]
  },
  {
   "cell_type": "code",
   "execution_count": 8,
   "metadata": {},
   "outputs": [
    {
     "data": {
      "text/plain": [
       "torch.Size([1, 278, 768])"
      ]
     },
     "execution_count": 8,
     "metadata": {},
     "output_type": "execute_result"
    }
   ],
   "source": [
    "logits = logits.transpose(1, 2)\n",
    "logits.shape"
   ]
  },
  {
   "cell_type": "code",
   "execution_count": 12,
   "metadata": {},
   "outputs": [
    {
     "data": {
      "text/plain": [
       "25.936773"
      ]
     },
     "execution_count": 12,
     "metadata": {},
     "output_type": "execute_result"
    }
   ],
   "source": [
    "np.linalg.norm(logits.squeeze(0)[0])"
   ]
  },
  {
   "cell_type": "code",
   "execution_count": 16,
   "metadata": {},
   "outputs": [
    {
     "name": "stderr",
     "output_type": "stream",
     "text": [
      "It is strongly recommended to pass the `sampling_rate` argument to this function. Failing to do so can result in silent errors that might be hard to debug.\n"
     ]
    },
    {
     "name": "stdout",
     "output_type": "stream",
     "text": [
      "torch.Size([1, 556, 768])\n",
      "37.410275\n"
     ]
    }
   ],
   "source": [
    "from transformers import AutoFeatureExtractor, WhisperModel\n",
    "\n",
    "device = 'mps'\n",
    "\n",
    "whisper_name = 'openai/whisper-small'\n",
    "whisper_model = WhisperModel.from_pretrained(\n",
    "    whisper_name, torch_dtype=torch.float16\n",
    ").to(device)\n",
    "del whisper_model.decoder\n",
    "whisper_feature_extractor = AutoFeatureExtractor.from_pretrained(whisper_name)\n",
    "\n",
    "def semantic_fn(waves_16k):\n",
    "    ori_inputs = whisper_feature_extractor(\n",
    "        [waves_16k.squeeze(0).cpu().numpy()],\n",
    "        return_tensors=\"pt\",\n",
    "        return_attention_mask=True,\n",
    "    )\n",
    "    ori_input_features = whisper_model._mask_input_features(\n",
    "        ori_inputs.input_features, attention_mask=ori_inputs.attention_mask\n",
    "    ).to(device)\n",
    "    with torch.no_grad():\n",
    "        ori_outputs = whisper_model.encoder(\n",
    "            ori_input_features.to(whisper_model.encoder.dtype),\n",
    "            head_mask=None,\n",
    "            output_attentions=False,\n",
    "            output_hidden_states=False,\n",
    "            return_dict=True,\n",
    "        )\n",
    "    S_ori = ori_outputs.last_hidden_state.to(torch.float32)\n",
    "    S_ori = S_ori[:, : waves_16k.size(-1) // 320 + 1]\n",
    "    print(S_ori.shape)\n",
    "    print(np.linalg.norm(S_ori.squeeze(0)[0].cpu().numpy()))\n",
    "    return S_ori\n",
    "\n",
    "s_wisper = semantic_fn(wav)"
   ]
  },
  {
   "cell_type": "code",
   "execution_count": 62,
   "metadata": {},
   "outputs": [],
   "source": [
    "# Load model directly\n",
    "from transformers import AutoProcessor, AutoModel, Wav2Vec2FeatureExtractor\n",
    "\n",
    "# processor = AutoProcessor.from_pretrained(\"facebook/hubert-large-ll60k\")\n",
    "model_hubert = AutoModel.from_pretrained(\"facebook/hubert-large-ll60k\")\n",
    "processor = Wav2Vec2FeatureExtractor.from_pretrained(\"facebook/hubert-large-ll60k\", trust_remote_code=True)"
   ]
  },
  {
   "cell_type": "code",
   "execution_count": 63,
   "metadata": {},
   "outputs": [],
   "source": [
    "alt_inputs = processor(\n",
    "    wav[0],\n",
    "    return_tensors='pt',\n",
    "    return_attention_mask=True,\n",
    "    padding=True,\n",
    "    sampling_rate=16000\n",
    ")"
   ]
  },
  {
   "cell_type": "code",
   "execution_count": 64,
   "metadata": {},
   "outputs": [],
   "source": [
    "alt_inputs.input_values.shape\n",
    "feature_lens = alt_inputs.data['attention_mask'].sum(-1) // 320  # frame rate of hubert is 50 Hz"
   ]
  },
  {
   "cell_type": "code",
   "execution_count": 65,
   "metadata": {},
   "outputs": [],
   "source": [
    "output_hubert = model_hubert(alt_inputs.input_values, attention_mask=alt_inputs.attention_mask)"
   ]
  },
  {
   "cell_type": "code",
   "execution_count": 66,
   "metadata": {},
   "outputs": [],
   "source": [
    "last_hidden_states = output_hubert.last_hidden_state\n",
    "last_hidden_states = last_hidden_states[:, :feature_lens.max(), :]\n",
    "feature_lens = feature_lens.clamp(max=last_hidden_states.size(1))\n",
    "last_hidden_states = last_hidden_states.transpose(1, 2)"
   ]
  },
  {
   "cell_type": "code",
   "execution_count": 80,
   "metadata": {},
   "outputs": [
    {
     "data": {
      "text/plain": [
       "tensor([555])"
      ]
     },
     "execution_count": 80,
     "metadata": {},
     "output_type": "execute_result"
    }
   ],
   "source": [
    "feature_lens"
   ]
  },
  {
   "cell_type": "code",
   "execution_count": 79,
   "metadata": {},
   "outputs": [
    {
     "data": {
      "text/plain": [
       "torch.Size([1, 1024, 555])"
      ]
     },
     "execution_count": 79,
     "metadata": {},
     "output_type": "execute_result"
    }
   ],
   "source": [
    "last_hidden_states.shape"
   ]
  },
  {
   "cell_type": "code",
   "execution_count": null,
   "metadata": {},
   "outputs": [],
   "source": []
  }
 ],
 "metadata": {
  "kernelspec": {
   "display_name": "ml_project_2",
   "language": "python",
   "name": "python3"
  },
  "language_info": {
   "codemirror_mode": {
    "name": "ipython",
    "version": 3
   },
   "file_extension": ".py",
   "mimetype": "text/x-python",
   "name": "python",
   "nbconvert_exporter": "python",
   "pygments_lexer": "ipython3",
   "version": "3.12.0"
  }
 },
 "nbformat": 4,
 "nbformat_minor": 2
}
