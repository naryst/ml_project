{
 "cells": [
  {
   "cell_type": "code",
   "execution_count": 59,
   "metadata": {},
   "outputs": [
    {
     "name": "stderr",
     "output_type": "stream",
     "text": [
      "You are using a model of type gigaam-ctc to instantiate a model of type . This is not supported for all configurations of models and can yield errors.\n"
     ]
    }
   ],
   "source": [
    "from transformers import AutoModel, AutoProcessor\n",
    "import torch\n",
    "import torchaudio\n",
    "\n",
    "# load audio\n",
    "wav, sr = torchaudio.load(\"dataset/test_wavs/bronya.wav\")\n",
    "# resample if necessary\n",
    "wav = torchaudio.functional.resample(wav, sr, 16000)\n",
    "\n",
    "# load model and processor\n",
    "processor = AutoProcessor.from_pretrained(\"waveletdeboshir/gigaam-ctc\", trust_remote_code=True)\n",
    "model = AutoModel.from_pretrained(\"waveletdeboshir/gigaam-ctc\", trust_remote_code=True)\n",
    "model.eval()\n",
    "\n",
    "input_features = processor(wav[0], sampling_rate=16000, return_tensors=\"pt\", padding=True)\n",
    "\n",
    "# predict\n",
    "with torch.no_grad():\n",
    "    logits = model(**input_features).logits\n",
    "# greedy decoding\n",
    "greedy_ids = logits.argmax(dim=-1)\n",
    "# decode token ids to text\n",
    "transcription = processor.batch_decode(greedy_ids)[0]\n"
   ]
  },
  {
   "cell_type": "code",
   "execution_count": 60,
   "metadata": {},
   "outputs": [
    {
     "data": {
      "text/plain": [
       "torch.Size([1, 64, 1112])"
      ]
     },
     "execution_count": 60,
     "metadata": {},
     "output_type": "execute_result"
    }
   ],
   "source": [
    "input_features['input_features'].shape"
   ]
  },
  {
   "cell_type": "code",
   "execution_count": 83,
   "metadata": {},
   "outputs": [
    {
     "data": {
      "text/plain": [
       "GigaAMCTCHF(\n",
       "  (model): GigaAMCTC(\n",
       "    (encoder): ConformerEncoder(\n",
       "      (pre_encode): StridingSubsampling(\n",
       "        (out): Linear(in_features=12288, out_features=768, bias=True)\n",
       "        (conv): Sequential(\n",
       "          (0): Conv2d(1, 768, kernel_size=(3, 3), stride=(2, 2), padding=(1, 1))\n",
       "          (1): ReLU()\n",
       "          (2): Conv2d(768, 768, kernel_size=(3, 3), stride=(2, 2), padding=(1, 1))\n",
       "          (3): ReLU()\n",
       "        )\n",
       "      )\n",
       "      (pos_enc): RotaryPositionalEmbedding()\n",
       "      (layers): ModuleList(\n",
       "        (0-15): 16 x ConformerLayer(\n",
       "          (norm_feed_forward1): LayerNorm((768,), eps=1e-05, elementwise_affine=True)\n",
       "          (feed_forward1): ConformerFeedForward(\n",
       "            (linear1): Linear(in_features=768, out_features=3072, bias=True)\n",
       "            (activation): SiLU()\n",
       "            (linear2): Linear(in_features=3072, out_features=768, bias=True)\n",
       "          )\n",
       "          (norm_conv): LayerNorm((768,), eps=1e-05, elementwise_affine=True)\n",
       "          (conv): ConformerConvolution(\n",
       "            (pointwise_conv1): Conv1d(768, 1536, kernel_size=(1,), stride=(1,))\n",
       "            (depthwise_conv): Conv1d(768, 768, kernel_size=(31,), stride=(1,), padding=(15,), groups=768)\n",
       "            (batch_norm): BatchNorm1d(768, eps=1e-05, momentum=0.1, affine=True, track_running_stats=True)\n",
       "            (activation): SiLU()\n",
       "            (pointwise_conv2): Conv1d(768, 768, kernel_size=(1,), stride=(1,))\n",
       "          )\n",
       "          (norm_self_att): LayerNorm((768,), eps=1e-05, elementwise_affine=True)\n",
       "          (self_attn): RotaryPositionMultiHeadAttention(\n",
       "            (linear_q): Linear(in_features=768, out_features=768, bias=True)\n",
       "            (linear_k): Linear(in_features=768, out_features=768, bias=True)\n",
       "            (linear_v): Linear(in_features=768, out_features=768, bias=True)\n",
       "            (linear_out): Linear(in_features=768, out_features=768, bias=True)\n",
       "          )\n",
       "          (norm_feed_forward2): LayerNorm((768,), eps=1e-05, elementwise_affine=True)\n",
       "          (feed_forward2): ConformerFeedForward(\n",
       "            (linear1): Linear(in_features=768, out_features=3072, bias=True)\n",
       "            (activation): SiLU()\n",
       "            (linear2): Linear(in_features=3072, out_features=768, bias=True)\n",
       "          )\n",
       "          (norm_out): LayerNorm((768,), eps=1e-05, elementwise_affine=True)\n",
       "        )\n",
       "      )\n",
       "    )\n",
       "    (head): CTCHead(\n",
       "      (decoder_layers): Sequential(\n",
       "        (0): Conv1d(768, 34, kernel_size=(1,), stride=(1,))\n",
       "      )\n",
       "    )\n",
       "  )\n",
       ")"
      ]
     },
     "execution_count": 83,
     "metadata": {},
     "output_type": "execute_result"
    }
   ],
   "source": [
    "model"
   ]
  },
  {
   "cell_type": "code",
   "execution_count": 75,
   "metadata": {},
   "outputs": [],
   "source": [
    "out = model(**input_features).logits"
   ]
  },
  {
   "cell_type": "code",
   "execution_count": 81,
   "metadata": {},
   "outputs": [
    {
     "data": {
      "text/plain": [
       "torch.Size([1, 278, 34])"
      ]
     },
     "execution_count": 81,
     "metadata": {},
     "output_type": "execute_result"
    }
   ],
   "source": [
    "out.shape\n",
    "# Load model directly"
   ]
  },
  {
   "cell_type": "code",
   "execution_count": 82,
   "metadata": {},
   "outputs": [
    {
     "data": {
      "text/plain": [
       "278"
      ]
     },
     "execution_count": 82,
     "metadata": {},
     "output_type": "execute_result"
    }
   ],
   "source": [
    "out.size(-2)"
   ]
  },
  {
   "cell_type": "code",
   "execution_count": 62,
   "metadata": {},
   "outputs": [],
   "source": [
    "# Load model directly\n",
    "from transformers import AutoProcessor, AutoModel, Wav2Vec2FeatureExtractor\n",
    "\n",
    "# processor = AutoProcessor.from_pretrained(\"facebook/hubert-large-ll60k\")\n",
    "model_hubert = AutoModel.from_pretrained(\"facebook/hubert-large-ll60k\")\n",
    "processor = Wav2Vec2FeatureExtractor.from_pretrained(\"facebook/hubert-large-ll60k\", trust_remote_code=True)"
   ]
  },
  {
   "cell_type": "code",
   "execution_count": 63,
   "metadata": {},
   "outputs": [],
   "source": [
    "alt_inputs = processor(\n",
    "    wav[0],\n",
    "    return_tensors='pt',\n",
    "    return_attention_mask=True,\n",
    "    padding=True,\n",
    "    sampling_rate=16000\n",
    ")"
   ]
  },
  {
   "cell_type": "code",
   "execution_count": 64,
   "metadata": {},
   "outputs": [],
   "source": [
    "alt_inputs.input_values.shape\n",
    "feature_lens = alt_inputs.data['attention_mask'].sum(-1) // 320  # frame rate of hubert is 50 Hz"
   ]
  },
  {
   "cell_type": "code",
   "execution_count": 65,
   "metadata": {},
   "outputs": [],
   "source": [
    "output_hubert = model_hubert(alt_inputs.input_values, attention_mask=alt_inputs.attention_mask)"
   ]
  },
  {
   "cell_type": "code",
   "execution_count": 66,
   "metadata": {},
   "outputs": [],
   "source": [
    "last_hidden_states = output_hubert.last_hidden_state\n",
    "last_hidden_states = last_hidden_states[:, :feature_lens.max(), :]\n",
    "feature_lens = feature_lens.clamp(max=last_hidden_states.size(1))\n",
    "last_hidden_states = last_hidden_states.transpose(1, 2)"
   ]
  },
  {
   "cell_type": "code",
   "execution_count": 80,
   "metadata": {},
   "outputs": [
    {
     "data": {
      "text/plain": [
       "tensor([555])"
      ]
     },
     "execution_count": 80,
     "metadata": {},
     "output_type": "execute_result"
    }
   ],
   "source": [
    "feature_lens"
   ]
  },
  {
   "cell_type": "code",
   "execution_count": 79,
   "metadata": {},
   "outputs": [
    {
     "data": {
      "text/plain": [
       "torch.Size([1, 1024, 555])"
      ]
     },
     "execution_count": 79,
     "metadata": {},
     "output_type": "execute_result"
    }
   ],
   "source": [
    "last_hidden_states.shape"
   ]
  },
  {
   "cell_type": "code",
   "execution_count": null,
   "metadata": {},
   "outputs": [],
   "source": []
  }
 ],
 "metadata": {
  "kernelspec": {
   "display_name": "ml_project_2",
   "language": "python",
   "name": "python3"
  },
  "language_info": {
   "codemirror_mode": {
    "name": "ipython",
    "version": 3
   },
   "file_extension": ".py",
   "mimetype": "text/x-python",
   "name": "python",
   "nbconvert_exporter": "python",
   "pygments_lexer": "ipython3",
   "version": "3.12.0"
  }
 },
 "nbformat": 4,
 "nbformat_minor": 2
}
